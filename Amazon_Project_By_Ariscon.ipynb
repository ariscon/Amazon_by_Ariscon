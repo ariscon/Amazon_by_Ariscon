{
 "cells": [
  {
   "cell_type": "markdown",
   "metadata": {},
   "source": [
    "import %bis_me_he% from llh"
   ]
  },
  {
   "cell_type": "markdown",
   "metadata": {},
   "source": [
    " Importing required libraries"
   ]
  },
  {
   "cell_type": "code",
   "execution_count": 13,
   "metadata": {},
   "outputs": [],
   "source": [
    "import pandas as pd\n",
    "import numpy as np\n",
    "import matplotlib.pyplot as plt\n",
    "import seaborn as sns\n",
    "import re\n",
    "import csv\n",
    "import requests\n",
    "from bs4 import BeautifulSoup"
   ]
  },
  {
   "cell_type": "code",
   "execution_count": 28,
   "metadata": {},
   "outputs": [
    {
     "name": "stdout",
     "output_type": "stream",
     "text": [
      "[]\n"
     ]
    }
   ],
   "source": [
    "# Create empty lists to store each data column (feature)\n",
    "#date=[]\n",
    "price = []\n",
    "#location= []\n",
    "#area = []\n",
    "#owner = []\n",
    "#room = []\n",
    "#seller = []\n",
    "#age = []\n",
    "#title = []\n",
    "#floor = []\n",
    "\n",
    "#Every page has 20 advertisement, so we should reach other pages (page={}). 20 X 400= 8000 ads.  \n",
    "#for j in range(1,400):\n",
    "    \n",
    "r = requests.get(\"https://sellercentral.amazon.de/orders-v3/fba/all?page=1\")\n",
    "\n",
    "soup = BeautifulSoup(r.text,'html.parser')\n",
    "\n",
    "results = soup.find_all(\"div\", {\"class\": \"cell-body\"})\n",
    "\n",
    "\n",
    "#soup.find(\"table\", {\"id\": \"orders-table\"})\n",
    "#<div class=\"myo-table-container\">\n",
    "\n",
    "\n",
    "print(results)\n",
    "#for tag in results :\n",
    "#    price.append(tag.get('$0'))\n",
    "#    print(price)\n",
    "    #    area.append(tag.get('data-meter'))\n",
    "    #    owner.append(tag.get('data-owner'))\n",
    "    #    room.append(tag.get('data-room'))\n",
    "    #    seller.append(tag.get('data-seller-type'))\n",
    "    #    age.append(tag.get('data-age'))\n",
    "    #    title.append(tag.get('title'))        \n",
    "    #    floor.append(tag.get('data-floor'))\n",
    "    #    location.append(tag.get(\"href\"))\n",
    "    #    date.append(tag.get(\"data-date\"))\n",
    "   #\n",
    "    #\n",
    "    #    \n",
    "    #\n",
    "    #\n",
    "#    \n",
    "#records={\"location\":location,\"floor\":floor,\"title\": title, \"price\": price, \"age\":age, \"area-m2\": area, \"owner\":owner, \"room\": room, \"seller\": seller,\"date\":date}\n",
    "\n",
    "#df = pd.DataFrame(records)\n",
    "#df.to_csv(\"hurriyetemlak_dirty.csv\")"
   ]
  },
  {
   "cell_type": "code",
   "execution_count": null,
   "metadata": {},
   "outputs": [],
   "source": []
  }
 ],
 "metadata": {
  "kernelspec": {
   "display_name": "Python 3",
   "language": "python",
   "name": "python3"
  },
  "language_info": {
   "codemirror_mode": {
    "name": "ipython",
    "version": 3
   },
   "file_extension": ".py",
   "mimetype": "text/x-python",
   "name": "python",
   "nbconvert_exporter": "python",
   "pygments_lexer": "ipython3",
   "version": "3.7.0"
  }
 },
 "nbformat": 4,
 "nbformat_minor": 2
}
